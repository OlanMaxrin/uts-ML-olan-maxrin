{
 "cells": [
  {
   "cell_type": "markdown",
   "metadata": {},
   "source": [
    "JAWABAN UTS MACHINE LEARNING"
   ]
  },
  {
   "cell_type": "markdown",
   "metadata": {},
   "source": [
    "NAMA    : OLANTIANUS BEBI MAXRIN\n",
    "NIM     : 20220801275"
   ]
  },
  {
   "cell_type": "markdown",
   "metadata": {},
   "source": [
    "Esay :\n",
    "1. Machine learning adalah ilmu pengembangan algoritme dan model secara statistik yang digunakan sistem komputer untuk menjalankan tugas tanpa instruksi eksplisit, mengandalkan pola serta inferensi sebagai gantinya.\n",
    "\n",
    "2. Contoh penerapan implementasi machine learning dalam kehidupan sehari-hari adalah sebagai berikut:\n",
    "    1. Google maps\n",
    "        • Kebutuhan: Orang sering perlu menemukan rute terbaik ke tujuan mereka.\n",
    "        • Manfaat: Google Maps menyediakan panduan langkah demi langkah dan rute optimal berdasarkan kondisi lalu lintas saat ini, menghemat waktu dan mengurangi biaya.\n",
    "    2. Dianogsis Medis ( MRI atau CT Scan)\n",
    "        • Kebutuhan: Dalam dunia medis, diagnosis yang tepat dan cepat sangat penting untuk menentukan perawatan yang sesuai. \n",
    "        • Manfaat: MRI (Magnetic Resonance Imaging) dan CT (Computed Tomography) Scan memungkinkan dokter melihat gambar rinci organ, jaringan, dan struktur tubuh lainnya, yang membantu dalam mendiagnosis berbagai kondisi medis seperti tumor, infeksi, cedera, dan penyakit kronis.\n",
    "    3. Chatbots\n",
    "        • Kebutuhan: Pengguna sering memerlukan bantuan atau informasi di luar jam kerja atau dalam situasi yang memerlukan respons cepat. \n",
    "        • Manfaat: Chatbots tersedia 24/7, memberikan bantuan kapan saja, tanpa perlu menunggu agen manusia.\n",
    "\n",
    "3. Machine learning memiliki berbagai penerapan yang dapat dikategorikan berdasarkan jenis pembelajaran, jenis data, dan tujuan aplikasi.\n",
    "    1. Berdasarkan pembelajaran\n",
    "        • Pembelajaran terawasi (supervised learning) menggunakan data berlabel untuk membuat prediksi atau klasifikasi.\n",
    "        • pembelajaran tak terawasi (unsupervised learning) mencari pola dalam data tanpa label.\n",
    "        • Pembelajaran penguatan (reinforcement learning) melibatkan algoritma yang belajar melalui trial and error untuk memaksimalkan reward. \n",
    "    2. Berdasarkan jenis data, algoritma dapat menangani data terstruktur (seperti tabel) atau data tak terstruktur (seperti teks dan gambar). \n",
    "    3. Tujuan aplikasinya meliputi klasifikasi (menetapkan label pada data), regresi (memprediksi nilai kontinu), pengelompokan (clustering), pengurangan dimensi (dimensionality reduction), dan deteksi anomali (anomaly detection). Pendekatan yang sering digunakan termasuk pohon keputusan dan ansambel, metode Bayesian, serta jaringan saraf dan pembelajaran mendalam (deep learning), yang masing-masing memiliki aplikasi khusus seperti pengenalan gambar, analisis teks, dan deteksi penipuan.\n",
    "\n"
   ]
  },
  {
   "cell_type": "code",
   "execution_count": null,
   "metadata": {},
   "outputs": [],
   "source": [
    "Studi Kasus 1 :\n",
    "import pandas as pd\n",
    "\n",
    "df = pd.read_csv('dataset-soalsk-pertama.csv')\n",
    "\n",
    "df.columns = df.columns.str.strip()\n",
    "\n",
    "df['Biaya'] = df['Biaya'].apply(lambda x: int(x.split('x')[0]) * int(x.split('x')[1]))\n",
    "\n",
    "rata_rata_datang = df['Datang'].mean()\n",
    "print(\"a) Rata-rata mahasiswa datang pada minggu ini :\", rata_rata_datang)\n",
    "\n",
    "biaya_tertinggi = df.loc[df['Biaya'].idxmax()]\n",
    "print(\"b) Biaya tertinggi terjadi pada hari :\", biaya_tertinggi['Hari'])\n",
    "\n",
    "hari_biaya_lebih_110000 = df.loc[df['Biaya'] > 110000, 'Hari'].tolist()\n",
    "hari_biaya_lebih_110000_str = ', '.join(hari_biaya_lebih_110000)\n",
    "print(\"c) Hari apa biaya lebih dari 110000 :\", hari_biaya_lebih_110000_str)\n",
    "\n",
    "mahasiswa_paling_banyak_datang = df['Mahasiswa'].mode().tolist()\n",
    "mahasiswa_paling_banyak_datang_str = ', '.join(mahasiswa_paling_banyak_datang)\n",
    "print(\"d) Mahasiswa yang paling banyak datang ke kampus :\", mahasiswa_paling_banyak_datang_str)\n",
    "\n",
    "mahasiswa_hari_minggu = df.loc[df['Hari'] == 'Minggu', 'Mahasiswa'].tolist()\n",
    "mahasiswa_hari_minggu_str = ', '.join(mahasiswa_hari_minggu)\n",
    "print(\"e) Mahasiswa yang datang pada hari Minggu :\", mahasiswa_hari_minggu_str)\n",
    "\n",
    "biaya_tertinggi = df['Biaya'].max()\n",
    "biaya_terendah = df['Biaya'].min()\n",
    "print(\"f) Biaya tertinggi:\", biaya_tertinggi, \"& Biaya terendah :\", biaya_terendah)\n",
    "\n",
    "frekuensi_datang_tertinggi = df['Mahasiswa'].value_counts().max()\n",
    "frekuensi_datang_terendah = df['Mahasiswa'].value_counts().min()\n",
    "print(\"g) Frekuensi datang tertinggi :\", frekuensi_datang_tertinggi, \"& Frekuensi datang terendah :\", frekuensi_datang_terendah)"
   ]
  },
  {
   "cell_type": "code",
   "execution_count": null,
   "metadata": {},
   "outputs": [],
   "source": [
    "Studi Kasus 2 :\n",
    "library(ggplot2)\n",
    "\n",
    "fakultas <- c(\"Bisnis\", \"D3 Perhotelan\", \"ICT\", \"Ilmu Komunikasi\", \"Seni dan Desain\")\n",
    "jumlah_mahasiswa <- c(260, 28, 284, 465, 735)\n",
    "akreditasi <- c(\"A\",\"A\",\"B\",\"A\",\"A\")\n",
    "info_mahasiswa <- data.frame(fakultas, jumlah_mahasiswa, akreditasi)\n",
    "\n",
    "gambar <- ggplot(info_mahasiswa, aes(x=fakultas, y=jumlah_mahasiswa, fill=fakultas))\n",
    "\n",
    "gambar <- gambar + geom_bar(width=1, stat=\"identity\")\n",
    "\n",
    "gambar <- gambar + ggtitle(\"Jumlah Mahasiswa per Fakultas\")\n",
    "\n",
    "gambar <- gambar + xlab(\"Nama Fakultas\")\n",
    "\n",
    "gambar <- gambar + ylab(\"Jumlah Mahasiswa\")\n",
    "\n",
    "gambar <- gambar + theme_minimal()\n",
    "\n",
    "gambar"
   ]
  }
 ],
 "metadata": {
  "kernelspec": {
   "display_name": "Python 3",
   "language": "python",
   "name": "python3"
  },
  "language_info": {
   "name": "python",
   "version": "3.10.12"
  },
  "orig_nbformat": 4
 },
 "nbformat": 4,
 "nbformat_minor": 2
}
